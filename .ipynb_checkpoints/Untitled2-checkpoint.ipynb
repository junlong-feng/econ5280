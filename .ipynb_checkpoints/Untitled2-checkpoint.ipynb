{
 "cells": [
  {
   "cell_type": "markdown",
   "id": "2fe1553c",
   "metadata": {},
   "source": [
    "Click this button (be patient while it's loading): [![Binder](https://mybinder.org/badge_logo.svg)](https://mybinder.org/v2/gh/junlong-feng/econ5280/main?filepath=Untitled2.ipynb)\n",
    "\n",
    "Try the following R code. Excute by pressing shift+enter. You can also change anything you want."
   ]
  },
  {
   "cell_type": "code",
   "execution_count": null,
   "id": "987f3e93",
   "metadata": {},
   "outputs": [],
   "source": [
    "a=dnorm(1,0,1)\n",
    "a+2"
   ]
  },
  {
   "cell_type": "code",
   "execution_count": null,
   "id": "83a4c758",
   "metadata": {},
   "outputs": [],
   "source": [
    "library(\"ivreg\")\n",
    "data(\"SchoolingReturns\", package = \"ivreg\")\n",
    "summary(SchoolingReturns[, 1:8])"
   ]
  }
 ],
 "metadata": {
  "kernelspec": {
   "display_name": "R",
   "language": "R",
   "name": "ir"
  },
  "language_info": {
   "codemirror_mode": "r",
   "file_extension": ".r",
   "mimetype": "text/x-r-source",
   "name": "R",
   "pygments_lexer": "r",
   "version": "4.1.1"
  }
 },
 "nbformat": 4,
 "nbformat_minor": 5
}
