{
 "cells": [
  {
   "cell_type": "markdown",
   "id": "a47d3b02",
   "metadata": {},
   "source": [
    "Try the following R code. Excute by pressing shift+enter. You can also change anything you want."
   ]
  },
  {
   "cell_type": "code",
   "execution_count": null,
   "id": "4ddcb2f3",
   "metadata": {},
   "outputs": [],
   "source": [
    "2+3"
   ]
  },
  {
   "cell_type": "code",
   "execution_count": null,
   "id": "94604732",
   "metadata": {},
   "outputs": [],
   "source": [
    "a=dnorm(1,0,1)\n",
    "a+2"
   ]
  }
 ],
 "metadata": {
  "kernelspec": {
   "display_name": "R",
   "language": "R",
   "name": "ir"
  },
  "language_info": {
   "codemirror_mode": "r",
   "file_extension": ".r",
   "mimetype": "text/x-r-source",
   "name": "R",
   "pygments_lexer": "r",
   "version": "4.1.1"
  }
 },
 "nbformat": 4,
 "nbformat_minor": 5
}
