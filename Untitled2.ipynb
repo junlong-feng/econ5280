{
 "cells": [
  {
   "cell_type": "markdown",
   "id": "2fe1553c",
   "metadata": {},
   "source": [
    "Click this button (be patient while it's loading): [![Binder](https://mybinder.org/badge_logo.svg)](https://mybinder.org/v2/gh/junlong-feng/econ5280/main?filepath=Untitled2.ipynb)\n",
    "\n",
    "Try the following R code. Excute by pressing shift+enter. You can also change anything you want."
   ]
  },
  {
   "cell_type": "code",
   "execution_count": null,
   "id": "979fd6ac",
   "metadata": {},
   "outputs": [],
   "source": [
    "2+3"
   ]
  },
  {
   "cell_type": "code",
   "execution_count": null,
   "id": "987f3e93",
   "metadata": {},
   "outputs": [],
   "source": [
    "library("ivreg")",
    "data("SchoolingReturns", package = "ivreg")",
    "summary(SchoolingReturns[, 1:8])",
    "a+2"
   ]
  }
 ],
 "metadata": {
  "kernelspec": {
   "display_name": "R",
   "language": "R",
   "name": "ir"
  },
  "language_info": {
   "codemirror_mode": "r",
   "file_extension": ".r",
   "mimetype": "text/x-r-source",
   "name": "R",
   "pygments_lexer": "r",
   "version": "4.1.1"
  }
 },
 "nbformat": 4,
 "nbformat_minor": 5
}
